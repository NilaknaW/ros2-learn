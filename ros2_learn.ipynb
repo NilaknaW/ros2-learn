{
 "cells": [
  {
   "cell_type": "markdown",
   "metadata": {},
   "source": [
    "# 1. Getting Started\n",
    "## 1.1 Setting up ROS2"
   ]
  },
  {
   "cell_type": "markdown",
   "metadata": {},
   "source": [
    "Followed the following tutorial to install ros2 in WSL2 environment. \n",
    "[https://docs.ros.org/en/humble/Installation/Ubuntu-Install-Debians.html](https://docs.ros.org/en/humble/Installation/Ubuntu-Install-Debians.html)\n",
    "\n",
    "jazzy distribution wasn’t installed so  I installed the humble distribution which is so called unsupported version.\n",
    "\n",
    "for every terminal open, we need to run this cmd:\n",
    "- ```source /opt/ros/humble/setup.bash```\n"
   ]
  },
  {
   "cell_type": "markdown",
   "metadata": {},
   "source": [
    "## Adding setup env cmd to bash\n",
    "\n",
    "since we need to run ```source /opt/ros/humble/setup.bash``` everytime, lets add it to the bash file so it will run automatically for all terminals open.\n",
    "\n"
   ]
  },
  {
   "cell_type": "markdown",
   "metadata": {},
   "source": [
    "To do that, add the line ```source /opt/ros/humble/setup.bash``` to the end of .bashrc file in ubuntu (hidden folder)"
   ]
  },
  {
   "cell_type": "markdown",
   "metadata": {},
   "source": [
    "## 1.2. Running your first codes\n",
    "### First nodes\n",
    "\n",
    "Open two terminals and run these commands, the terminals should communicate with each other.\n",
    "\n",
    "```ros2 run demo_nodes_py talker``` node 1\n",
    "\n",
    "```ros2 run demo_nodes_py listener``` node 2\n",
    "\n",
    "-\tThe above programme ran successfully.\n",
    "\n",
    "to view the results on graph, run ```rqt_graph``` on another terminal."
   ]
  },
  {
   "cell_type": "markdown",
   "metadata": {},
   "source": [
    "![alt text](talker-listerne.png)"
   ]
  },
  {
   "cell_type": "markdown",
   "metadata": {},
   "source": [
    "/talker and /listerner are nodes\n",
    "\n",
    "/chatter is a topic"
   ]
  },
  {
   "cell_type": "markdown",
   "metadata": {},
   "source": [
    "## 1.3. Turtlesim example\n",
    "\n",
    "#### 1. Open turtlesim window\n",
    "run cmd ``` ros2 run turtlesim turtlesim_node``` where turtlesim is the package and turtlesim_node is the node name.\n",
    "\n",
    "this will open up the turtle sim window"
   ]
  },
  {
   "cell_type": "markdown",
   "metadata": {},
   "source": [
    "#### 2. See keyboard entries\n",
    "\n",
    "Run ```ros2 run turtlesim turtle_teleop_key``` on another terminal\n"
   ]
  },
  {
   "cell_type": "markdown",
   "metadata": {},
   "source": [
    "![alt text](turtle1.png)"
   ]
  },
  {
   "cell_type": "markdown",
   "metadata": {},
   "source": [
    "# 2. Building nodes"
   ]
  },
  {
   "cell_type": "markdown",
   "metadata": {},
   "source": [
    "``` sudo apt update```\n",
    "\n",
    "```sudo apt install python3-colcon-common-extensions```"
   ]
  },
  {
   "cell_type": "markdown",
   "metadata": {},
   "source": [
    "* to enable autocompletion of cmds add this line to ~/.bashrc file\n",
    "\n",
    "``` source /usr/share/colcon_argcomplete/hook/colcon-argcomplete.bash``` "
   ]
  },
  {
   "cell_type": "markdown",
   "metadata": {},
   "source": [
    "## Lets create a ROS2 workspace\n",
    "\n",
    "1. make a directory for the workspace\n",
    "\n",
    "``` mkdir ros2_ws```\n",
    "\n",
    "2. go to the created folder and create a source folder in it.\n",
    "\n",
    "```cd ros2_ws```\n",
    "\n",
    "```mkdir src```\n",
    "\n",
    "3. build the package with ```colcon build``` cmd. it will create 3 more packages. \n",
    "\n",
    "the workspace now looks like,\n",
    "\n",
    "- build\n",
    "- install\n",
    "- log\n",
    "- src"
   ]
  },
  {
   "cell_type": "markdown",
   "metadata": {},
   "source": [
    "#### To use this custom package add this setup.bash file to the ~/.bashrc file\n"
   ]
  },
  {
   "cell_type": "markdown",
   "metadata": {},
   "source": [
    "## Create ROS2 Python package"
   ]
  },
  {
   "cell_type": "markdown",
   "metadata": {},
   "source": [
    "navigate to src in your workspace and run \n",
    "\n",
    "```ros2 pkg create name_of_package --build-type ament_python --dependencies rclpy```\n",
    "\n",
    "if making cpp nodes, use ament_cmake instead. ament defines the build system. colcon is build tool.\n",
    "\n",
    "then name_of_package folder is created in the src directory.\n",
    "\n",
    "then open with VSCode for  easier usage."
   ]
  },
  {
   "cell_type": "markdown",
   "metadata": {},
   "source": [
    "**Lets build the package again**\n",
    "\n",
    "go to workspace root directory and run ```colcon build```"
   ]
  },
  {
   "cell_type": "markdown",
   "metadata": {},
   "source": [
    "## Finally, create a Node!"
   ]
  },
  {
   "cell_type": "markdown",
   "metadata": {},
   "source": [
    "as usual lets start with hello world!\n",
    "\n",
    "cd to workspace/package_name/package_name directoru\n",
    "\n",
    "create first node python file using touch and then make it executable by chmod\n",
    "- ```touch my_fisrt_node.py```\n",
    "- ```chmod +x my_first_node.py```\n",
    "\n",
    "then edit the ```my_first_node.py``` file. refer to my_first_node.py\n",
    "\n",
    "the run the file in the terminal by going to the pkg/pkg folder and running ```./my_first_node.py```"
   ]
  },
  {
   "cell_type": "markdown",
   "metadata": {},
   "source": [
    "#### to access the node from anywere\n",
    "add it to te setup.py file\n",
    "\n",
    "```\n",
    "entry_points={\n",
    "        'console_scripts': [\n",
    "            \"test_node = my_robot_controller.my_first_node:main\",\n",
    "        ],\n",
    "    },"
   ]
  },
  {
   "cell_type": "code",
   "execution_count": null,
   "metadata": {},
   "outputs": [],
   "source": []
  }
 ],
 "metadata": {
  "kernelspec": {
   "display_name": "base",
   "language": "python",
   "name": "python3"
  },
  "language_info": {
   "name": "python",
   "version": "3.11.5"
  }
 },
 "nbformat": 4,
 "nbformat_minor": 2
}
